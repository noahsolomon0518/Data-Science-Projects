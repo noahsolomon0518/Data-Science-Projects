{
 "cells": [
  {
   "cell_type": "markdown",
   "metadata": {},
   "source": [
    "# __Linear Regression Model__\n",
    "### In this notebook I will be demonstrating: \n",
    "1. How my linear regression model works\n",
    "2. How to use it\n",
    "\n",
    "\n",
    "First I will be importing the following libraries:"
   ]
  },
  {
   "cell_type": "code",
   "execution_count": 24,
   "metadata": {},
   "outputs": [
    {
     "data": {
      "text/html": [
       "<div>\n",
       "<style scoped>\n",
       "    .dataframe tbody tr th:only-of-type {\n",
       "        vertical-align: middle;\n",
       "    }\n",
       "\n",
       "    .dataframe tbody tr th {\n",
       "        vertical-align: top;\n",
       "    }\n",
       "\n",
       "    .dataframe thead th {\n",
       "        text-align: right;\n",
       "    }\n",
       "</style>\n",
       "<table border=\"1\" class=\"dataframe\">\n",
       "  <thead>\n",
       "    <tr style=\"text-align: right;\">\n",
       "      <th></th>\n",
       "      <th>Unnamed: 0</th>\n",
       "      <th>ID</th>\n",
       "      <th>Name</th>\n",
       "      <th>Age</th>\n",
       "      <th>Photo</th>\n",
       "      <th>Nationality</th>\n",
       "      <th>Flag</th>\n",
       "      <th>Overall</th>\n",
       "      <th>Potential</th>\n",
       "      <th>Club</th>\n",
       "      <th>...</th>\n",
       "      <th>Composure</th>\n",
       "      <th>Marking</th>\n",
       "      <th>StandingTackle</th>\n",
       "      <th>SlidingTackle</th>\n",
       "      <th>GKDiving</th>\n",
       "      <th>GKHandling</th>\n",
       "      <th>GKKicking</th>\n",
       "      <th>GKPositioning</th>\n",
       "      <th>GKReflexes</th>\n",
       "      <th>Release Clause</th>\n",
       "    </tr>\n",
       "  </thead>\n",
       "  <tbody>\n",
       "    <tr>\n",
       "      <th>0</th>\n",
       "      <td>0</td>\n",
       "      <td>158023</td>\n",
       "      <td>L. Messi</td>\n",
       "      <td>31</td>\n",
       "      <td>https://cdn.sofifa.org/players/4/19/158023.png</td>\n",
       "      <td>Argentina</td>\n",
       "      <td>https://cdn.sofifa.org/flags/52.png</td>\n",
       "      <td>94</td>\n",
       "      <td>94</td>\n",
       "      <td>FC Barcelona</td>\n",
       "      <td>...</td>\n",
       "      <td>96.0</td>\n",
       "      <td>33.0</td>\n",
       "      <td>28.0</td>\n",
       "      <td>26.0</td>\n",
       "      <td>6.0</td>\n",
       "      <td>11.0</td>\n",
       "      <td>15.0</td>\n",
       "      <td>14.0</td>\n",
       "      <td>8.0</td>\n",
       "      <td>€226.5M</td>\n",
       "    </tr>\n",
       "    <tr>\n",
       "      <th>1</th>\n",
       "      <td>1</td>\n",
       "      <td>20801</td>\n",
       "      <td>Cristiano Ronaldo</td>\n",
       "      <td>33</td>\n",
       "      <td>https://cdn.sofifa.org/players/4/19/20801.png</td>\n",
       "      <td>Portugal</td>\n",
       "      <td>https://cdn.sofifa.org/flags/38.png</td>\n",
       "      <td>94</td>\n",
       "      <td>94</td>\n",
       "      <td>Juventus</td>\n",
       "      <td>...</td>\n",
       "      <td>95.0</td>\n",
       "      <td>28.0</td>\n",
       "      <td>31.0</td>\n",
       "      <td>23.0</td>\n",
       "      <td>7.0</td>\n",
       "      <td>11.0</td>\n",
       "      <td>15.0</td>\n",
       "      <td>14.0</td>\n",
       "      <td>11.0</td>\n",
       "      <td>€127.1M</td>\n",
       "    </tr>\n",
       "    <tr>\n",
       "      <th>2</th>\n",
       "      <td>2</td>\n",
       "      <td>190871</td>\n",
       "      <td>Neymar Jr</td>\n",
       "      <td>26</td>\n",
       "      <td>https://cdn.sofifa.org/players/4/19/190871.png</td>\n",
       "      <td>Brazil</td>\n",
       "      <td>https://cdn.sofifa.org/flags/54.png</td>\n",
       "      <td>92</td>\n",
       "      <td>93</td>\n",
       "      <td>Paris Saint-Germain</td>\n",
       "      <td>...</td>\n",
       "      <td>94.0</td>\n",
       "      <td>27.0</td>\n",
       "      <td>24.0</td>\n",
       "      <td>33.0</td>\n",
       "      <td>9.0</td>\n",
       "      <td>9.0</td>\n",
       "      <td>15.0</td>\n",
       "      <td>15.0</td>\n",
       "      <td>11.0</td>\n",
       "      <td>€228.1M</td>\n",
       "    </tr>\n",
       "    <tr>\n",
       "      <th>3</th>\n",
       "      <td>3</td>\n",
       "      <td>193080</td>\n",
       "      <td>De Gea</td>\n",
       "      <td>27</td>\n",
       "      <td>https://cdn.sofifa.org/players/4/19/193080.png</td>\n",
       "      <td>Spain</td>\n",
       "      <td>https://cdn.sofifa.org/flags/45.png</td>\n",
       "      <td>91</td>\n",
       "      <td>93</td>\n",
       "      <td>Manchester United</td>\n",
       "      <td>...</td>\n",
       "      <td>68.0</td>\n",
       "      <td>15.0</td>\n",
       "      <td>21.0</td>\n",
       "      <td>13.0</td>\n",
       "      <td>90.0</td>\n",
       "      <td>85.0</td>\n",
       "      <td>87.0</td>\n",
       "      <td>88.0</td>\n",
       "      <td>94.0</td>\n",
       "      <td>€138.6M</td>\n",
       "    </tr>\n",
       "    <tr>\n",
       "      <th>4</th>\n",
       "      <td>4</td>\n",
       "      <td>192985</td>\n",
       "      <td>K. De Bruyne</td>\n",
       "      <td>27</td>\n",
       "      <td>https://cdn.sofifa.org/players/4/19/192985.png</td>\n",
       "      <td>Belgium</td>\n",
       "      <td>https://cdn.sofifa.org/flags/7.png</td>\n",
       "      <td>91</td>\n",
       "      <td>92</td>\n",
       "      <td>Manchester City</td>\n",
       "      <td>...</td>\n",
       "      <td>88.0</td>\n",
       "      <td>68.0</td>\n",
       "      <td>58.0</td>\n",
       "      <td>51.0</td>\n",
       "      <td>15.0</td>\n",
       "      <td>13.0</td>\n",
       "      <td>5.0</td>\n",
       "      <td>10.0</td>\n",
       "      <td>13.0</td>\n",
       "      <td>€196.4M</td>\n",
       "    </tr>\n",
       "    <tr>\n",
       "      <th>...</th>\n",
       "      <td>...</td>\n",
       "      <td>...</td>\n",
       "      <td>...</td>\n",
       "      <td>...</td>\n",
       "      <td>...</td>\n",
       "      <td>...</td>\n",
       "      <td>...</td>\n",
       "      <td>...</td>\n",
       "      <td>...</td>\n",
       "      <td>...</td>\n",
       "      <td>...</td>\n",
       "      <td>...</td>\n",
       "      <td>...</td>\n",
       "      <td>...</td>\n",
       "      <td>...</td>\n",
       "      <td>...</td>\n",
       "      <td>...</td>\n",
       "      <td>...</td>\n",
       "      <td>...</td>\n",
       "      <td>...</td>\n",
       "      <td>...</td>\n",
       "    </tr>\n",
       "    <tr>\n",
       "      <th>18202</th>\n",
       "      <td>18202</td>\n",
       "      <td>238813</td>\n",
       "      <td>J. Lundstram</td>\n",
       "      <td>19</td>\n",
       "      <td>https://cdn.sofifa.org/players/4/19/238813.png</td>\n",
       "      <td>England</td>\n",
       "      <td>https://cdn.sofifa.org/flags/14.png</td>\n",
       "      <td>47</td>\n",
       "      <td>65</td>\n",
       "      <td>Crewe Alexandra</td>\n",
       "      <td>...</td>\n",
       "      <td>45.0</td>\n",
       "      <td>40.0</td>\n",
       "      <td>48.0</td>\n",
       "      <td>47.0</td>\n",
       "      <td>10.0</td>\n",
       "      <td>13.0</td>\n",
       "      <td>7.0</td>\n",
       "      <td>8.0</td>\n",
       "      <td>9.0</td>\n",
       "      <td>€143K</td>\n",
       "    </tr>\n",
       "    <tr>\n",
       "      <th>18203</th>\n",
       "      <td>18203</td>\n",
       "      <td>243165</td>\n",
       "      <td>N. Christoffersson</td>\n",
       "      <td>19</td>\n",
       "      <td>https://cdn.sofifa.org/players/4/19/243165.png</td>\n",
       "      <td>Sweden</td>\n",
       "      <td>https://cdn.sofifa.org/flags/46.png</td>\n",
       "      <td>47</td>\n",
       "      <td>63</td>\n",
       "      <td>Trelleborgs FF</td>\n",
       "      <td>...</td>\n",
       "      <td>42.0</td>\n",
       "      <td>22.0</td>\n",
       "      <td>15.0</td>\n",
       "      <td>19.0</td>\n",
       "      <td>10.0</td>\n",
       "      <td>9.0</td>\n",
       "      <td>9.0</td>\n",
       "      <td>5.0</td>\n",
       "      <td>12.0</td>\n",
       "      <td>€113K</td>\n",
       "    </tr>\n",
       "    <tr>\n",
       "      <th>18204</th>\n",
       "      <td>18204</td>\n",
       "      <td>241638</td>\n",
       "      <td>B. Worman</td>\n",
       "      <td>16</td>\n",
       "      <td>https://cdn.sofifa.org/players/4/19/241638.png</td>\n",
       "      <td>England</td>\n",
       "      <td>https://cdn.sofifa.org/flags/14.png</td>\n",
       "      <td>47</td>\n",
       "      <td>67</td>\n",
       "      <td>Cambridge United</td>\n",
       "      <td>...</td>\n",
       "      <td>41.0</td>\n",
       "      <td>32.0</td>\n",
       "      <td>13.0</td>\n",
       "      <td>11.0</td>\n",
       "      <td>6.0</td>\n",
       "      <td>5.0</td>\n",
       "      <td>10.0</td>\n",
       "      <td>6.0</td>\n",
       "      <td>13.0</td>\n",
       "      <td>€165K</td>\n",
       "    </tr>\n",
       "    <tr>\n",
       "      <th>18205</th>\n",
       "      <td>18205</td>\n",
       "      <td>246268</td>\n",
       "      <td>D. Walker-Rice</td>\n",
       "      <td>17</td>\n",
       "      <td>https://cdn.sofifa.org/players/4/19/246268.png</td>\n",
       "      <td>England</td>\n",
       "      <td>https://cdn.sofifa.org/flags/14.png</td>\n",
       "      <td>47</td>\n",
       "      <td>66</td>\n",
       "      <td>Tranmere Rovers</td>\n",
       "      <td>...</td>\n",
       "      <td>46.0</td>\n",
       "      <td>20.0</td>\n",
       "      <td>25.0</td>\n",
       "      <td>27.0</td>\n",
       "      <td>14.0</td>\n",
       "      <td>6.0</td>\n",
       "      <td>14.0</td>\n",
       "      <td>8.0</td>\n",
       "      <td>9.0</td>\n",
       "      <td>€143K</td>\n",
       "    </tr>\n",
       "    <tr>\n",
       "      <th>18206</th>\n",
       "      <td>18206</td>\n",
       "      <td>246269</td>\n",
       "      <td>G. Nugent</td>\n",
       "      <td>16</td>\n",
       "      <td>https://cdn.sofifa.org/players/4/19/246269.png</td>\n",
       "      <td>England</td>\n",
       "      <td>https://cdn.sofifa.org/flags/14.png</td>\n",
       "      <td>46</td>\n",
       "      <td>66</td>\n",
       "      <td>Tranmere Rovers</td>\n",
       "      <td>...</td>\n",
       "      <td>43.0</td>\n",
       "      <td>40.0</td>\n",
       "      <td>43.0</td>\n",
       "      <td>50.0</td>\n",
       "      <td>10.0</td>\n",
       "      <td>15.0</td>\n",
       "      <td>9.0</td>\n",
       "      <td>12.0</td>\n",
       "      <td>9.0</td>\n",
       "      <td>€165K</td>\n",
       "    </tr>\n",
       "  </tbody>\n",
       "</table>\n",
       "<p>18207 rows × 89 columns</p>\n",
       "</div>"
      ],
      "text/plain": [
       "       Unnamed: 0      ID                Name  Age  \\\n",
       "0               0  158023            L. Messi   31   \n",
       "1               1   20801   Cristiano Ronaldo   33   \n",
       "2               2  190871           Neymar Jr   26   \n",
       "3               3  193080              De Gea   27   \n",
       "4               4  192985        K. De Bruyne   27   \n",
       "...           ...     ...                 ...  ...   \n",
       "18202       18202  238813        J. Lundstram   19   \n",
       "18203       18203  243165  N. Christoffersson   19   \n",
       "18204       18204  241638           B. Worman   16   \n",
       "18205       18205  246268      D. Walker-Rice   17   \n",
       "18206       18206  246269           G. Nugent   16   \n",
       "\n",
       "                                                Photo Nationality  \\\n",
       "0      https://cdn.sofifa.org/players/4/19/158023.png   Argentina   \n",
       "1       https://cdn.sofifa.org/players/4/19/20801.png    Portugal   \n",
       "2      https://cdn.sofifa.org/players/4/19/190871.png      Brazil   \n",
       "3      https://cdn.sofifa.org/players/4/19/193080.png       Spain   \n",
       "4      https://cdn.sofifa.org/players/4/19/192985.png     Belgium   \n",
       "...                                               ...         ...   \n",
       "18202  https://cdn.sofifa.org/players/4/19/238813.png     England   \n",
       "18203  https://cdn.sofifa.org/players/4/19/243165.png      Sweden   \n",
       "18204  https://cdn.sofifa.org/players/4/19/241638.png     England   \n",
       "18205  https://cdn.sofifa.org/players/4/19/246268.png     England   \n",
       "18206  https://cdn.sofifa.org/players/4/19/246269.png     England   \n",
       "\n",
       "                                      Flag  Overall  Potential  \\\n",
       "0      https://cdn.sofifa.org/flags/52.png       94         94   \n",
       "1      https://cdn.sofifa.org/flags/38.png       94         94   \n",
       "2      https://cdn.sofifa.org/flags/54.png       92         93   \n",
       "3      https://cdn.sofifa.org/flags/45.png       91         93   \n",
       "4       https://cdn.sofifa.org/flags/7.png       91         92   \n",
       "...                                    ...      ...        ...   \n",
       "18202  https://cdn.sofifa.org/flags/14.png       47         65   \n",
       "18203  https://cdn.sofifa.org/flags/46.png       47         63   \n",
       "18204  https://cdn.sofifa.org/flags/14.png       47         67   \n",
       "18205  https://cdn.sofifa.org/flags/14.png       47         66   \n",
       "18206  https://cdn.sofifa.org/flags/14.png       46         66   \n",
       "\n",
       "                      Club  ... Composure Marking StandingTackle  \\\n",
       "0             FC Barcelona  ...      96.0    33.0           28.0   \n",
       "1                 Juventus  ...      95.0    28.0           31.0   \n",
       "2      Paris Saint-Germain  ...      94.0    27.0           24.0   \n",
       "3        Manchester United  ...      68.0    15.0           21.0   \n",
       "4          Manchester City  ...      88.0    68.0           58.0   \n",
       "...                    ...  ...       ...     ...            ...   \n",
       "18202      Crewe Alexandra  ...      45.0    40.0           48.0   \n",
       "18203       Trelleborgs FF  ...      42.0    22.0           15.0   \n",
       "18204     Cambridge United  ...      41.0    32.0           13.0   \n",
       "18205      Tranmere Rovers  ...      46.0    20.0           25.0   \n",
       "18206      Tranmere Rovers  ...      43.0    40.0           43.0   \n",
       "\n",
       "       SlidingTackle GKDiving  GKHandling  GKKicking  GKPositioning  \\\n",
       "0               26.0      6.0        11.0       15.0           14.0   \n",
       "1               23.0      7.0        11.0       15.0           14.0   \n",
       "2               33.0      9.0         9.0       15.0           15.0   \n",
       "3               13.0     90.0        85.0       87.0           88.0   \n",
       "4               51.0     15.0        13.0        5.0           10.0   \n",
       "...              ...      ...         ...        ...            ...   \n",
       "18202           47.0     10.0        13.0        7.0            8.0   \n",
       "18203           19.0     10.0         9.0        9.0            5.0   \n",
       "18204           11.0      6.0         5.0       10.0            6.0   \n",
       "18205           27.0     14.0         6.0       14.0            8.0   \n",
       "18206           50.0     10.0        15.0        9.0           12.0   \n",
       "\n",
       "      GKReflexes Release Clause  \n",
       "0            8.0        €226.5M  \n",
       "1           11.0        €127.1M  \n",
       "2           11.0        €228.1M  \n",
       "3           94.0        €138.6M  \n",
       "4           13.0        €196.4M  \n",
       "...          ...            ...  \n",
       "18202        9.0          €143K  \n",
       "18203       12.0          €113K  \n",
       "18204       13.0          €165K  \n",
       "18205        9.0          €143K  \n",
       "18206        9.0          €165K  \n",
       "\n",
       "[18207 rows x 89 columns]"
      ]
     },
     "execution_count": 24,
     "metadata": {},
     "output_type": "execute_result"
    }
   ],
   "source": [
    "import pandas as pd\n",
    "import numpy as np\n",
    "import matplotlib.pyplot as plt\n",
    "import math\n",
    "import Regress as r\n",
    "import func\n",
    "\n",
    "\n",
    "df = pd.read_csv('data.csv')\n",
    "df"
   ]
  },
  {
   "cell_type": "markdown",
   "metadata": {},
   "source": [
    "# The Data Set\n",
    "The dataset I have used is based on the game fifa 18, which includes rating a variety of attributes for professional soccer players. For example, this data set keeps track of each players:\n",
    "- Name\n",
    "- Age \n",
    "- Dribbling\n",
    "- Stamina\n",
    "\n",
    "Below are all the columns"
   ]
  },
  {
   "cell_type": "code",
   "execution_count": 25,
   "metadata": {},
   "outputs": [
    {
     "data": {
      "text/plain": [
       "Index(['Unnamed: 0', 'ID', 'Name', 'Age', 'Photo', 'Nationality', 'Flag',\n",
       "       'Overall', 'Potential', 'Club', 'Club Logo', 'Value', 'Wage', 'Special',\n",
       "       'Preferred Foot', 'International Reputation', 'Weak Foot',\n",
       "       'Skill Moves', 'Work Rate', 'Body Type', 'Real Face', 'Position',\n",
       "       'Jersey Number', 'Joined', 'Loaned From', 'Contract Valid Until',\n",
       "       'Height', 'Weight', 'LS', 'ST', 'RS', 'LW', 'LF', 'CF', 'RF', 'RW',\n",
       "       'LAM', 'CAM', 'RAM', 'LM', 'LCM', 'CM', 'RCM', 'RM', 'LWB', 'LDM',\n",
       "       'CDM', 'RDM', 'RWB', 'LB', 'LCB', 'CB', 'RCB', 'RB', 'Crossing',\n",
       "       'Finishing', 'HeadingAccuracy', 'ShortPassing', 'Volleys', 'Dribbling',\n",
       "       'Curve', 'FKAccuracy', 'LongPassing', 'BallControl', 'Acceleration',\n",
       "       'SprintSpeed', 'Agility', 'Reactions', 'Balance', 'ShotPower',\n",
       "       'Jumping', 'Stamina', 'Strength', 'LongShots', 'Aggression',\n",
       "       'Interceptions', 'Positioning', 'Vision', 'Penalties', 'Composure',\n",
       "       'Marking', 'StandingTackle', 'SlidingTackle', 'GKDiving', 'GKHandling',\n",
       "       'GKKicking', 'GKPositioning', 'GKReflexes', 'Release Clause'],\n",
       "      dtype='object')"
      ]
     },
     "execution_count": 25,
     "metadata": {},
     "output_type": "execute_result"
    }
   ],
   "source": [
    "df.columns"
   ]
  },
  {
   "cell_type": "markdown",
   "metadata": {},
   "source": [
    "# Cleaning the Data\n",
    "Before I can use the model, I need to do a couple things:\n",
    "1. Figure out which features I want to explore\n",
    "2. Clean the data\n",
    "\n",
    "Two features that I am certain will have somewhat if a linear relationship are **Acceleration** and **SprintSpeed**. I happen to know that there are about 50 players who have NaN values for SprintSpeed so I will be dropping those datapoints. Since there are 18,000 datapoints dropping just 50 won't make much a difference. \n",
    "\n",
    "I will be choosing Acceleration as the independent variable and SprintSpeed as the dependent variable. "
   ]
  },
  {
   "cell_type": "code",
   "execution_count": 7,
   "metadata": {},
   "outputs": [],
   "source": [
    "xcol = 'Acceleration'\n",
    "ycol = 'SprintSpeed'\n",
    "\n",
    "\n",
    "df.drop(df[df['SprintSpeed'].isnull()].index, inplace = True)\n",
    "df.index = range(0,len(df))\n",
    "x = df.Acceleration\n",
    "Y = df.SprintSpeed"
   ]
  },
  {
   "cell_type": "markdown",
   "metadata": {},
   "source": [
    "# Implementing the Regression Model\n",
    "Next I will be creating a best_Fit() object. This is what we will be using to create a best fit line to the data we will be providing it with. To feed the model our data, we can use:\n"
   ]
  },
  {
   "cell_type": "code",
   "execution_count": 8,
   "metadata": {},
   "outputs": [],
   "source": [
    "model = r.best_Fit()\n",
    "model.fit(x,Y)\n"
   ]
  },
  {
   "cell_type": "markdown",
   "metadata": {},
   "source": [
    "Finally we can get the slope and y intercept of the best fit line."
   ]
  },
  {
   "cell_type": "code",
   "execution_count": 30,
   "metadata": {},
   "outputs": [
    {
     "name": "stdout",
     "output_type": "stream",
     "text": [
      "The best fit line is:  0.904769165088138 x + 6.266144051689537\n"
     ]
    }
   ],
   "source": [
    "m = model.slope_Best()\n",
    "b = model.b_Best()\n",
    "print('The best fit line is: ', m,'x +',b)"
   ]
  },
  {
   "cell_type": "markdown",
   "metadata": {},
   "source": [
    "We can plot the data along with the best fit line to make sure the best fit line is correct."
   ]
  },
  {
   "cell_type": "code",
   "execution_count": 28,
   "metadata": {},
   "outputs": [
    {
     "data": {
      "text/plain": [
       "Text(0, 0.5, 'SprintSpeed')"
      ]
     },
     "execution_count": 28,
     "metadata": {},
     "output_type": "execute_result"
    },
    {
     "data": {
      "image/png": "[encoded data removed]",
      "text/plain": [
       "<Figure size 432x288 with 1 Axes>"
      ]
     },
     "metadata": {
      "needs_background": "light"
     },
     "output_type": "display_data"
    }
   ],
   "source": [
    "x_val = np.linspace(np.min(x),np.max(x))\n",
    "plt.scatter(x,Y, s = 5)\n",
    "plt.plot(x_val, m*x_val+b, c = 'r')\n",
    "plt.xlabel(xcol)\n",
    "plt.ylabel(ycol)"
   ]
  },
  {
   "cell_type": "markdown",
   "metadata": {},
   "source": [
    "# Fifa Data Set - Age vs Potential\n",
    "\n",
    "Next I will compare Age and Potential. Each fifa player has an Overall rating out of 100 and Potential is the Overall rating that each player has the ability to grow to. I would expect that as players get older, their increase in potential will decrease. Lets take a look."
   ]
  },
  {
   "cell_type": "code",
   "execution_count": 47,
   "metadata": {},
   "outputs": [
    {
     "name": "stdout",
     "output_type": "stream",
     "text": [
      "The best fit line is:  -1.0020893015759234 x + 30.243293598112118\n"
     ]
    }
   ],
   "source": [
    "xcol = 'Age'\n",
    "ycol = 'Potential'\n",
    "x = df[xcol]\n",
    "Y = df[ycol] - df.Overall\n",
    "model.fit(x,Y)\n",
    "m = model.slope_Best()\n",
    "b = model.b_Best()\n",
    "print('The best fit line is: ', m,'x +',b)"
   ]
  },
  {
   "cell_type": "code",
   "execution_count": 50,
   "metadata": {},
   "outputs": [
    {
     "data": {
      "text/plain": [
       "Text(0, 0.5, 'Change in Potential')"
      ]
     },
     "execution_count": 50,
     "metadata": {},
     "output_type": "execute_result"
    },
    {
     "data": {
      "image/png": "[encoded data removed]",
      "text/plain": [
       "<Figure size 432x288 with 1 Axes>"
      ]
     },
     "metadata": {
      "needs_background": "light"
     },
     "output_type": "display_data"
    }
   ],
   "source": [
    "x_val = np.linspace(np.min(x),np.max(x))\n",
    "plt.scatter(x,Y, s = 5)\n",
    "plt.plot(x_val, m*x_val+b, c = 'r')\n",
    "plt.xlabel(xcol)\n",
    "plt.ylabel('Change in Potential')"
   ]
  },
  {
   "cell_type": "markdown",
   "metadata": {},
   "source": [
    "This is pretty interesting as it seems like an exponential function would fit this relationship better. It makes sense because generally as age increases the change in potential will decrease. But at a certain age (in this case around 30), all players have 0 change in potential creating a curved shape. Finding a way to fit relationships to an expoential function seems like an interesting project but I will have to save that project for another day."
   ]
  },
  {
   "cell_type": "markdown",
   "metadata": {},
   "source": [
    "# The Math Behind the Linear Regression Model"
   ]
  },
  {
   "cell_type": "markdown",
   "metadata": {},
   "source": [
    "Figuring out the math behind creating a best fit was the bulk of creating this model. I created the algorithm myself soley with the knowledge:\n",
    "\n",
    "- A best fit line minimizes the summation of squared error\n",
    "- A best fit line always crosses through the average point of a dataset\n",
    "\n",
    "<br>\n",
    "\n",
    "When I heard minimizing I thought about using calculus to find the best fit line. Eventually a plan vaguley formed in my mind:\n",
    "\n",
    "1. Figure out the general equation for the summation of squared error based on each slope $m$. This will be $SS$\n",
    "2. Derive that equation with respect to $m$. This willl be $SS'$\n",
    "3. Set $SS' = 0$ and solve for $m$\n",
    "\n",
    "<br>\n",
    "\n",
    "Visually, our current relationship between SprintSpeed and Acceleration, looks like:\n"
   ]
  },
  {
   "cell_type": "code",
   "execution_count": 42,
   "metadata": {},
   "outputs": [
    {
     "data": {
      "text/plain": [
       "Text(0, 0.5, 'Summation of Squared Error')"
      ]
     },
     "execution_count": 42,
     "metadata": {},
     "output_type": "execute_result"
    },
    {
     "data": {
      "image/png": "[encoded data removed]",
      "text/plain": [
       "<Figure size 432x288 with 1 Axes>"
      ]
     },
     "metadata": {
      "needs_background": "light"
     },
     "output_type": "display_data"
    }
   ],
   "source": [
    "mrange = np.arange(-1, 2, .2)\n",
    "all_SS = []\n",
    "for i in mrange:\n",
    "    all_SS.append(func.SS(x,Y,i,b))\n",
    "\n",
    "plt.plot(mrange,all_SS)\n",
    "plt.scatter(m, func.SS(x,Y,m,b))\n",
    "plt.xlabel('Slope')\n",
    "plt.ylabel('Summation of Squared Error')"
   ]
  },
  {
   "cell_type": "markdown",
   "metadata": {},
   "source": [
    "# Step 1: Find the Summation of Squared Error Function\n",
    "Generally speaking this function will be taking each point and finding the distance squared between it and the line with a slope of $m$. Then you sum of every one of these distances squared. Say you have point $p_i$ with the x cord of $x_i$ and y cord of $y_i$. Then $m$ is any arbitrary slope and $b$ is any arbitrary y intercept.\n",
    "\n",
    "To find the squared error of $p_i$:\n",
    "\n",
    "$SS_1 = (y_1 - (mx_1 + b))^2$\n",
    "\n",
    "$SS_2 = (y_2 - (mx_2 + b))^2$\n",
    "\n",
    "$SS_3 = (y_3 - (mx_3 + b))^2$\n",
    "\n",
    "To find the Summation of squared error, you add all of these equations up. This results in:\n",
    "\n",
    "$\\sum_{i=1}^{n} (y_i - (mx_i + b))^2$\n",
    "\n",
    "Now its worth here to mention how to deal with $b$. Since we know that our best fit line with cross the average point we can find $b$ in terms of $m$. Let the average x value be $a_x$ and the average y value be $a_y$. Plugging $a_x$ and $a_x$ into $y = mx + b$ results in:\n",
    "\n",
    "$b = a_y - m*a_x$\n",
    "\n",
    "So we get:\n",
    "\n",
    "$\\sum_{i=0}^{n} (y_i - (mx_i + a_y - ma_x))^2$\n",
    "\n",
    "$\\sum_{i=0}^{n} (y_i - mx_i - a_y + ma_x)^2$\n",
    "\n",
    "$\\sum_{i=0}^{n} (y_i^2 - 2mx_iy_i - 2a_yy_i + 2ma_xy_i + 2ma_yx_i - 2m^2a_xx_i + a_y^2 - 2ma_xa_y + m^2a_x^2 +m^2x_i^2)$\n",
    "\n",
    "Next, the summation is applied:\n",
    "\n",
    "$SS = \\sum_{i=0}^{n} y_i^2 - 2m(\\sum_{i=0}^{n} x_iy_i) - 2a_y(\\sum_{i=0}^{n}y_i) +2ma_x(\\sum_{i=0}^{n}y_i) + 2ma_x(\\sum_{i=0}^{n}x_i) - 2m^2a_x(\\sum_{i=0}^{n} x_i) +na_y^2 - 2nma_xa_y + nm^2a_x^2 +m^2(\\sum_{i=0}^{n}x^2)$\n",
    "\n",
    "And yes, I know it is painful to look at this equation but it does its job of calculating the sum of squared error with respect to $m$. "
   ]
  },
  {
   "cell_type": "markdown",
   "metadata": {},
   "source": [
    "# Step 2: Find the Derivitive of $SS$\n",
    "This step is relatively simple:\n",
    "$SS = \\sum_{i=0}^{n} y_i^2 - 2m(\\sum_{i=0}^{n} x_iy_i) - 2a_y(\\sum_{i=0}^{n}y_i) +2ma_x(\\sum_{i=0}^{n}y_i) + 2ma_x(\\sum_{i=0}^{n}x_i) - 2m^2a_x(\\sum_{i=0}^{n} x_i) +na_y^2 - 2nma_xa_y + nm^2a_x^2 +m^2(\\sum_{i=0}^{n}x^2)$\n",
    "\n",
    "$SS' = -2(\\sum_{i=0}^{n}x_i) + 2a_x(\\sum_{i=0}^{n}y_i) + 2a_y(\\sum_{i=0}^{n}x_i) - 4ma_x(\\sum_{i=0}^{n}x_i - 2na_xa_y) + 2nma_x^2 +2m(\\sum_{i=0}^{n}x_i^2)$\n"
   ]
  },
  {
   "cell_type": "markdown",
   "metadata": {},
   "source": [
    "# Step 3: Set to 0 and Solve for $m$\n",
    "Then we have:\n",
    "\n",
    "$0 = -2(\\sum_{i=0}^{n}x_i) + 2a_x(\\sum_{i=0}^{n}y_i) + 2a_y(\\sum_{i=0}^{n}x_i) - 4ma_x(\\sum_{i=0}^{n}x_i) - 2na_xa_y + 2nma_x^2 +2m(\\sum_{i=0}^{n}x_i^2)$\n",
    "\n",
    "$ - 2(\\sum_{i=0}^{n}x_i) + 2a_x(\\sum_{i=0}^{n}y_i) + 2a_y(\\sum_{i=0}^{n}x_i) - 2na_xa_y =  4ma_x(\\sum_{i=0}^{n}x_i) - 2nma_x^2 - 2m(\\sum_{i=0}^{n}x_i^2)$\n",
    "\n",
    "$ - 2(\\sum_{i=0}^{n}x_i) + 2a_x(\\sum_{i=0}^{n}y_i) + 2a_y(\\sum_{i=0}^{n}x_i) - 2na_xa_y =  m(4a_x(\\sum_{i=0}^{n}x_i) - 2na_x^2 - 2(\\sum_{i=0}^{n}x_i^2))$\n",
    "\n",
    "\n",
    "$m =  - \\frac{2(\\sum_{i=0}^{n}x_i) + 2a_x(\\sum_{i=0}^{n}y_i) + 2a_y(\\sum_{i=0}^{n}x_i) - 2na_xa_y}{(4a_x(\\sum_{i=0}^{n}x_i) - 2na_x^2 - 2(\\sum_{i=0}^{n}x_i^2))}$\n",
    "\n",
    "This is the $m$ that will be used for the model. To find $b$:\n",
    "\n",
    "$b = a_y - ma_x$\n",
    "\n",
    "### Note\n",
    "I'm aware that this algorithm is complex, confusing, and inefficient. There are others out there that are a lot simpler to understand and can more quickly compute best fit lines. The whole goal of this project was to test my math and programming skills to create my own linear regression model. I could have simply looked up more simpler and efficent best fit algorithms but I wanted to do it myself and I must admit it was super fun to figure all this out. Thanks for reading!"
   ]
  },
  {
   "cell_type": "code",
   "execution_count": null,
   "metadata": {},
   "outputs": [],
   "source": []
  }
 ],
 "metadata": {
  "kernelspec": {
   "display_name": "Python 3",
   "language": "python",
   "name": "python3"
  },
  "language_info": {
   "codemirror_mode": {
    "name": "ipython",
    "version": 3
   },
   "file_extension": ".py",
   "mimetype": "text/x-python",
   "name": "python",
   "nbconvert_exporter": "python",
   "pygments_lexer": "ipython3",
   "version": "3.7.1"
  }
 },
 "nbformat": 4,
 "nbformat_minor": 2
}
